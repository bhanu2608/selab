{
  "nbformat": 4,
  "nbformat_minor": 0,
  "metadata": {
    "colab": {
      "provenance": [],
      "authorship_tag": "ABX9TyNRNNZJiFlOiGpJlvwuq5KL",
      "include_colab_link": true
    },
    "kernelspec": {
      "name": "python3",
      "display_name": "Python 3"
    },
    "language_info": {
      "name": "python"
    }
  },
  "cells": [
    {
      "cell_type": "markdown",
      "metadata": {
        "id": "view-in-github",
        "colab_type": "text"
      },
      "source": [
        "<a href=\"https://colab.research.google.com/github/bhanu2608/selab/blob/main/selabb1.ipynb\" target=\"_parent\"><img src=\"https://colab.research.google.com/assets/colab-badge.svg\" alt=\"Open In Colab\"/></a>"
      ]
    },
    {
      "cell_type": "code",
      "execution_count": 1,
      "metadata": {
        "colab": {
          "base_uri": "https://localhost:8080/"
        },
        "id": "b8TPy3SL369E",
        "outputId": "005adc99-c0cc-45d4-a17e-4ca2c6c92e17"
      },
      "outputs": [
        {
          "output_type": "stream",
          "name": "stdout",
          "text": [
            "Temperature at time 5 is 69\n"
          ]
        }
      ],
      "source": [
        "def weather_model(time):\n",
        "    a = 2  # Example coefficient\n",
        "    b = 3  # Example coefficient\n",
        "    c = 4  # Example coefficient\n",
        "    temp = a * time**2 + b * time + c\n",
        "    return temp\n",
        "\n",
        "time = 5  # Example time\n",
        "temperature = weather_model(time)\n",
        "print(f\"Temperature at time {time} is {temperature}\")"
      ]
    },
    {
      "cell_type": "code",
      "source": [
        "def weather_model(time):\n",
        "    a = 2  # Example coefficient\n",
        "    b = 3  # Example coefficient\n",
        "    c = 4  # Example coefficient\n",
        "    temp = a * time**2 + b * time + c\n",
        "    return temp\n",
        "\n",
        "time = int(input(\"Enter the time: \"))\n",
        "temperature = weather_model(time)\n",
        "print(f\"Temperature at time {time} is {temperature}\")"
      ],
      "metadata": {
        "colab": {
          "base_uri": "https://localhost:8080/"
        },
        "id": "R-DpwXVv4Egb",
        "outputId": "d8c53123-218e-4c19-f97d-28015f621bc5"
      },
      "execution_count": 2,
      "outputs": [
        {
          "output_type": "stream",
          "name": "stdout",
          "text": [
            "Enter the time: 12\n",
            "Temperature at time 12 is 328\n"
          ]
        }
      ]
    },
    {
      "cell_type": "code",
      "source": [
        "def weather_model(time):\n",
        "    a = 2  # Example coefficient\n",
        "    b = 3  # Example coefficient\n",
        "    c = 4  # Example coefficient\n",
        "    temp = a * time**2 + b * time + c\n",
        "    return temp\n",
        "\n",
        "with open('/content/sample_data/input_single.txt', 'r') as file:\n",
        "    time = int(file.read().strip())\n",
        "\n",
        "temperature = weather_model(time)\n",
        "print(f\"Temperature at time {time} is {temperature}\")"
      ],
      "metadata": {
        "colab": {
          "base_uri": "https://localhost:8080/"
        },
        "id": "K1mrFVBR82Ek",
        "outputId": "e217d2dc-f67d-49b9-9cd8-65bb0349a6a9"
      },
      "execution_count": 4,
      "outputs": [
        {
          "output_type": "stream",
          "name": "stdout",
          "text": [
            "Temperature at time 5 is 69\n"
          ]
        }
      ]
    },
    {
      "cell_type": "code",
      "source": [
        "def weather_model(time):\n",
        "    a = 2  # Example coefficient\n",
        "    b = 3  # Example coefficient\n",
        "    c = 4  # Example coefficient\n",
        "    temp = a * time**2 + b * time + c\n",
        "    return temp\n",
        "\n",
        "with open('/content/sample_data/input_multiple.txt', 'r') as file:\n",
        "    times = file.readlines()\n",
        "\n",
        "times = [int(time.strip()) for time in times]\n",
        "\n",
        "for time in times:\n",
        "    temperature = weather_model(time)\n",
        "    print(f\"Temperature at time {time} is {temperature}\")"
      ],
      "metadata": {
        "colab": {
          "base_uri": "https://localhost:8080/"
        },
        "id": "S4r9vESw_fxA",
        "outputId": "9381dfa1-1a58-4a7a-ff9c-9ae420336ba8"
      },
      "execution_count": 5,
      "outputs": [
        {
          "output_type": "stream",
          "name": "stdout",
          "text": [
            "Temperature at time 1 is 9\n",
            "Temperature at time 2 is 18\n",
            "Temperature at time 3 is 31\n",
            "Temperature at time 4 is 48\n",
            "Temperature at time 5 is 69\n"
          ]
        }
      ]
    },
    {
      "cell_type": "markdown",
      "source": [],
      "metadata": {
        "id": "JhBUkWAG9rAf"
      }
    }
  ]
}