{
  "nbformat": 4,
  "nbformat_minor": 0,
  "metadata": {
    "colab": {
      "provenance": [],
      "authorship_tag": "ABX9TyNCjH4UGIlM5WSKK9FJKHJl",
      "include_colab_link": true
    },
    "kernelspec": {
      "name": "python3",
      "display_name": "Python 3"
    },
    "language_info": {
      "name": "python"
    }
  },
  "cells": [
    {
      "cell_type": "markdown",
      "metadata": {
        "id": "view-in-github",
        "colab_type": "text"
      },
      "source": [
        "<a href=\"https://colab.research.google.com/github/bhanu2608/selab/blob/main/selab.ipynb\" target=\"_parent\"><img src=\"https://colab.research.google.com/assets/colab-badge.svg\" alt=\"Open In Colab\"/></a>"
      ]
    },
    {
      "cell_type": "code",
      "execution_count": 1,
      "metadata": {
        "colab": {
          "base_uri": "https://localhost:8080/"
        },
        "id": "b8TPy3SL369E",
        "outputId": "005adc99-c0cc-45d4-a17e-4ca2c6c92e17"
      },
      "outputs": [
        {
          "output_type": "stream",
          "name": "stdout",
          "text": [
            "Temperature at time 5 is 69\n"
          ]
        }
      ],
      "source": [
        "def weather_model(time):\n",
        "    a = 2  # Example coefficient\n",
        "    b = 3  # Example coefficient\n",
        "    c = 4  # Example coefficient\n",
        "    temp = a * time**2 + b * time + c\n",
        "    return temp\n",
        "\n",
        "time = 5  # Example time\n",
        "temperature = weather_model(time)\n",
        "print(f\"Temperature at time {time} is {temperature}\")"
      ]
    },
    {
      "cell_type": "code",
      "source": [],
      "metadata": {
        "id": "R-DpwXVv4Egb"
      },
      "execution_count": null,
      "outputs": []
    }
  ]
}