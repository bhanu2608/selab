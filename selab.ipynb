{
  "nbformat": 4,
  "nbformat_minor": 0,
  "metadata": {
    "colab": {
      "provenance": [],
      "authorship_tag": "ABX9TyPb+aSTsDJ3zSybf6G2rXaU",
      "include_colab_link": true
    },
    "kernelspec": {
      "name": "python3",
      "display_name": "Python 3"
    },
    "language_info": {
      "name": "python"
    }
  },
  "cells": [
    {
      "cell_type": "markdown",
      "metadata": {
        "id": "view-in-github",
        "colab_type": "text"
      },
      "source": [
        "<a href=\"https://colab.research.google.com/github/bhanu2608/selab/blob/main/selab.ipynb\" target=\"_parent\"><img src=\"https://colab.research.google.com/assets/colab-badge.svg\" alt=\"Open In Colab\"/></a>"
      ]
    },
    {
      "cell_type": "code",
      "execution_count": 1,
      "metadata": {
        "colab": {
          "base_uri": "https://localhost:8080/"
        },
        "id": "1ZbqFralyfwz",
        "outputId": "e360fb08-5f99-4c90-af76-fc16b6bee9dd"
      },
      "outputs": [
        {
          "output_type": "stream",
          "name": "stdout",
          "text": [
            "Temperature at time 5 is 69\n"
          ]
        }
      ],
      "source": [
        "def weather_model(time):\n",
        "    a = 2  # Example coefficient\n",
        "    b = 3  # Example coefficient\n",
        "    c = 4  # Example coefficient\n",
        "    temp = a * time**2 + b * time + c\n",
        "    return temp\n",
        "\n",
        "time = 5  # Example time\n",
        "temperature = weather_model(time)\n",
        "print(f\"Temperature at time {time} is {temperature}\")"
      ]
    }
  ]
}